{
  "nbformat": 4,
  "nbformat_minor": 0,
  "metadata": {
    "colab": {
      "name": "Trained_vgg_working_100.ipynb",
      "provenance": [],
      "toc_visible": true,
      "mount_file_id": "17Jrt6mrAlfgykMbmkmbiAE7FvR4zO2li",
      "authorship_tag": "ABX9TyNWa0BpictdSfiFrMw1VbOV",
      "include_colab_link": true
    },
    "kernelspec": {
      "name": "python3",
      "display_name": "Python 3"
    }
  },
  "cells": [
    {
      "cell_type": "markdown",
      "metadata": {
        "id": "view-in-github",
        "colab_type": "text"
      },
      "source": [
        "<a href=\"https://colab.research.google.com/github/gaggs/gtzan_music_genre_classification/blob/master/Trained_vgg_working_100.ipynb\" target=\"_parent\"><img src=\"https://colab.research.google.com/assets/colab-badge.svg\" alt=\"Open In Colab\"/></a>"
      ]
    },
    {
      "cell_type": "code",
      "metadata": {
        "id": "fbXFfiVxwJUr",
        "colab_type": "code",
        "colab": {}
      },
      "source": [
        "from google.colab import drive"
      ],
      "execution_count": 0,
      "outputs": []
    },
    {
      "cell_type": "code",
      "metadata": {
        "id": "0eG1oVnRwY6W",
        "colab_type": "code",
        "colab": {
          "base_uri": "https://localhost:8080/",
          "height": 36
        },
        "outputId": "5f858505-577d-4cbf-f85a-388332e25108"
      },
      "source": [
        "%cd /content/drive/My\\ Drive/Trained-CNN-Genre-classification-master"
      ],
      "execution_count": 6,
      "outputs": [
        {
          "output_type": "stream",
          "text": [
            "/content/drive/My Drive/Trained-CNN-Genre-classification-master\n"
          ],
          "name": "stdout"
        }
      ]
    },
    {
      "cell_type": "code",
      "metadata": {
        "id": "yK1coWJCw4U5",
        "colab_type": "code",
        "colab": {
          "base_uri": "https://localhost:8080/",
          "height": 391
        },
        "outputId": "88b22cfa-526a-4cf0-812c-f3343f5f62e6"
      },
      "source": [
        "!python predict_vgg16.py"
      ],
      "execution_count": 8,
      "outputs": [
        {
          "output_type": "stream",
          "text": [
            "Using TensorFlow backend.\n",
            "Traceback (most recent call last):\n",
            "  File \"predict_vgg16.py\", line 58, in <module>\n",
            "    print(get_genre('./audios/disco_music.mp3', True))\n",
            "  File \"predict_vgg16.py\", line 34, in get_genre\n",
            "    model = load_model('./weights/genres_full_vgg16.h5')\n",
            "  File \"/usr/local/lib/python3.6/dist-packages/keras/engine/saving.py\", line 458, in load_wrapper\n",
            "    return load_function(*args, **kwargs)\n",
            "  File \"/usr/local/lib/python3.6/dist-packages/keras/engine/saving.py\", line 549, in load_model\n",
            "    with H5Dict(filepath, mode='r') as h5dict:\n",
            "  File \"/usr/local/lib/python3.6/dist-packages/keras/utils/io_utils.py\", line 191, in __init__\n",
            "    self.data = h5py.File(path, mode=mode)\n",
            "  File \"/usr/local/lib/python3.6/dist-packages/h5py/_hl/files.py\", line 312, in __init__\n",
            "    fid = make_fid(name, mode, userblock_size, fapl, swmr=swmr)\n",
            "  File \"/usr/local/lib/python3.6/dist-packages/h5py/_hl/files.py\", line 142, in make_fid\n",
            "    fid = h5f.open(name, flags, fapl=fapl)\n",
            "  File \"h5py/_objects.pyx\", line 54, in h5py._objects.with_phil.wrapper\n",
            "  File \"h5py/_objects.pyx\", line 55, in h5py._objects.with_phil.wrapper\n",
            "  File \"h5py/h5f.pyx\", line 78, in h5py.h5f.open\n",
            "OSError: Unable to open file (file signature not found)\n"
          ],
          "name": "stdout"
        }
      ]
    },
    {
      "cell_type": "code",
      "metadata": {
        "id": "Y19U_Il5yDW9",
        "colab_type": "code",
        "colab": {
          "base_uri": "https://localhost:8080/",
          "height": 1000
        },
        "outputId": "0c3bf624-94f8-44b2-d719-86dd53d4cd4d"
      },
      "source": [
        "!python classification_cnn_vgg16.py"
      ],
      "execution_count": 9,
      "outputs": [
        {
          "output_type": "stream",
          "text": [
            "Using TensorFlow backend.\n",
            "(133, 128, 129, 3) (57, 128, 129, 3) (133, 10) (57, 10)\n",
            "<Figure size 640x480 with 1 Axes>\n",
            "WARNING:tensorflow:From /usr/local/lib/python3.6/dist-packages/keras/backend/tensorflow_backend.py:66: The name tf.get_default_graph is deprecated. Please use tf.compat.v1.get_default_graph instead.\n",
            "\n",
            "WARNING:tensorflow:From /usr/local/lib/python3.6/dist-packages/keras/backend/tensorflow_backend.py:541: The name tf.placeholder is deprecated. Please use tf.compat.v1.placeholder instead.\n",
            "\n",
            "WARNING:tensorflow:From /usr/local/lib/python3.6/dist-packages/keras/backend/tensorflow_backend.py:4432: The name tf.random_uniform is deprecated. Please use tf.random.uniform instead.\n",
            "\n",
            "WARNING:tensorflow:From /usr/local/lib/python3.6/dist-packages/keras/backend/tensorflow_backend.py:4267: The name tf.nn.max_pool is deprecated. Please use tf.nn.max_pool2d instead.\n",
            "\n",
            "Downloading data from https://github.com/fchollet/deep-learning-models/releases/download/v0.1/vgg16_weights_tf_dim_ordering_tf_kernels_notop.h5\n",
            "58892288/58889256 [==============================] - 2s 0us/step\n",
            "WARNING:tensorflow:From /usr/local/lib/python3.6/dist-packages/keras/backend/tensorflow_backend.py:190: The name tf.get_default_session is deprecated. Please use tf.compat.v1.get_default_session instead.\n",
            "\n",
            "WARNING:tensorflow:From /usr/local/lib/python3.6/dist-packages/keras/backend/tensorflow_backend.py:197: The name tf.ConfigProto is deprecated. Please use tf.compat.v1.ConfigProto instead.\n",
            "\n",
            "WARNING:tensorflow:From /usr/local/lib/python3.6/dist-packages/keras/backend/tensorflow_backend.py:203: The name tf.Session is deprecated. Please use tf.compat.v1.Session instead.\n",
            "\n",
            "2020-02-12 05:11:07.748983: I tensorflow/core/platform/profile_utils/cpu_utils.cc:94] CPU Frequency: 2200000000 Hz\n",
            "2020-02-12 05:11:07.750415: I tensorflow/compiler/xla/service/service.cc:168] XLA service 0x13169a40 initialized for platform Host (this does not guarantee that XLA will be used). Devices:\n",
            "2020-02-12 05:11:07.750482: I tensorflow/compiler/xla/service/service.cc:176]   StreamExecutor device (0): Host, Default Version\n",
            "2020-02-12 05:11:07.777892: I tensorflow/stream_executor/platform/default/dso_loader.cc:44] Successfully opened dynamic library libcuda.so.1\n",
            "2020-02-12 05:11:07.862870: E tensorflow/stream_executor/cuda/cuda_driver.cc:318] failed call to cuInit: CUDA_ERROR_NO_DEVICE: no CUDA-capable device is detected\n",
            "2020-02-12 05:11:07.862956: I tensorflow/stream_executor/cuda/cuda_diagnostics.cc:156] kernel driver does not appear to be running on this host (c6e22d34eb51): /proc/driver/nvidia/version does not exist\n",
            "WARNING:tensorflow:From /usr/local/lib/python3.6/dist-packages/keras/backend/tensorflow_backend.py:207: The name tf.global_variables is deprecated. Please use tf.compat.v1.global_variables instead.\n",
            "\n",
            "WARNING:tensorflow:From /usr/local/lib/python3.6/dist-packages/keras/backend/tensorflow_backend.py:216: The name tf.is_variable_initialized is deprecated. Please use tf.compat.v1.is_variable_initialized instead.\n",
            "\n",
            "WARNING:tensorflow:From /usr/local/lib/python3.6/dist-packages/keras/backend/tensorflow_backend.py:223: The name tf.variables_initializer is deprecated. Please use tf.compat.v1.variables_initializer instead.\n",
            "\n",
            "WARNING:tensorflow:From /usr/local/lib/python3.6/dist-packages/keras/backend/tensorflow_backend.py:148: The name tf.placeholder_with_default is deprecated. Please use tf.compat.v1.placeholder_with_default instead.\n",
            "\n",
            "WARNING:tensorflow:From /usr/local/lib/python3.6/dist-packages/keras/backend/tensorflow_backend.py:3733: calling dropout (from tensorflow.python.ops.nn_ops) with keep_prob is deprecated and will be removed in a future version.\n",
            "Instructions for updating:\n",
            "Please use `rate` instead of `keep_prob`. Rate should be set to `rate = 1 - keep_prob`.\n",
            "Creating EarlyStopping Callback ...\n",
            "Model: \"model_1\"\n",
            "_________________________________________________________________\n",
            "Layer (type)                 Output Shape              Param #   \n",
            "=================================================================\n",
            "input_1 (InputLayer)         (None, 128, 129, 3)       0         \n",
            "_________________________________________________________________\n",
            "block1_conv1 (Conv2D)        (None, 128, 129, 64)      1792      \n",
            "_________________________________________________________________\n",
            "block1_conv2 (Conv2D)        (None, 128, 129, 64)      36928     \n",
            "_________________________________________________________________\n",
            "block1_pool (MaxPooling2D)   (None, 64, 64, 64)        0         \n",
            "_________________________________________________________________\n",
            "block2_conv1 (Conv2D)        (None, 64, 64, 128)       73856     \n",
            "_________________________________________________________________\n",
            "block2_conv2 (Conv2D)        (None, 64, 64, 128)       147584    \n",
            "_________________________________________________________________\n",
            "block2_pool (MaxPooling2D)   (None, 32, 32, 128)       0         \n",
            "_________________________________________________________________\n",
            "block3_conv1 (Conv2D)        (None, 32, 32, 256)       295168    \n",
            "_________________________________________________________________\n",
            "block3_conv2 (Conv2D)        (None, 32, 32, 256)       590080    \n",
            "_________________________________________________________________\n",
            "block3_conv3 (Conv2D)        (None, 32, 32, 256)       590080    \n",
            "_________________________________________________________________\n",
            "block3_pool (MaxPooling2D)   (None, 16, 16, 256)       0         \n",
            "_________________________________________________________________\n",
            "block4_conv1 (Conv2D)        (None, 16, 16, 512)       1180160   \n",
            "_________________________________________________________________\n",
            "block4_conv2 (Conv2D)        (None, 16, 16, 512)       2359808   \n",
            "_________________________________________________________________\n",
            "block4_conv3 (Conv2D)        (None, 16, 16, 512)       2359808   \n",
            "_________________________________________________________________\n",
            "block4_pool (MaxPooling2D)   (None, 8, 8, 512)         0         \n",
            "_________________________________________________________________\n",
            "block5_conv1 (Conv2D)        (None, 8, 8, 512)         2359808   \n",
            "_________________________________________________________________\n",
            "block5_conv2 (Conv2D)        (None, 8, 8, 512)         2359808   \n",
            "_________________________________________________________________\n",
            "block5_conv3 (Conv2D)        (None, 8, 8, 512)         2359808   \n",
            "_________________________________________________________________\n",
            "block5_pool (MaxPooling2D)   (None, 4, 4, 512)         0         \n",
            "_________________________________________________________________\n",
            "sequential_1 (Sequential)    (None, 10)                2099978   \n",
            "=================================================================\n",
            "Total params: 16,814,666\n",
            "Trainable params: 16,702,090\n",
            "Non-trainable params: 112,576\n",
            "_________________________________________________________________\n",
            "WARNING:tensorflow:From /usr/local/lib/python3.6/dist-packages/keras/optimizers.py:793: The name tf.train.Optimizer is deprecated. Please use tf.compat.v1.train.Optimizer instead.\n",
            "\n",
            "WARNING:tensorflow:From /usr/local/lib/python3.6/dist-packages/keras/backend/tensorflow_backend.py:3576: The name tf.log is deprecated. Please use tf.math.log instead.\n",
            "\n",
            "WARNING:tensorflow:From /usr/local/lib/python3.6/dist-packages/tensorflow_core/python/ops/math_grad.py:1424: where (from tensorflow.python.ops.array_ops) is deprecated and will be removed in a future version.\n",
            "Instructions for updating:\n",
            "Use tf.where in 2.0, which has the same broadcast rule as np.where\n",
            "WARNING:tensorflow:From /usr/local/lib/python3.6/dist-packages/keras/backend/tensorflow_backend.py:1033: The name tf.assign_add is deprecated. Please use tf.compat.v1.assign_add instead.\n",
            "\n",
            "WARNING:tensorflow:From /usr/local/lib/python3.6/dist-packages/keras/backend/tensorflow_backend.py:1020: The name tf.assign is deprecated. Please use tf.compat.v1.assign instead.\n",
            "\n",
            "Train on 133 samples, validate on 57 samples\n",
            "Epoch 1/1000\n",
            "tcmalloc: large alloc 4869742592 bytes == 0x7c504000 @  0x7fdea5d8a1e7 0x7fde6bf30192 0x7fde6fb0516a 0x7fde6fedaf62 0x7fde6fedc874 0x7fde6ff4da9e 0x7fde6ff50f2d 0x7fde6ff5139f 0x7fde673a8f36 0x7fde6739b585 0x7fde674596b9 0x7fde67456d88 0x7fdea466c66f 0x7fdea574e6db 0x7fdea5a8788f\n",
            "tcmalloc: large alloc 1208295424 bytes == 0x5c104000 @  0x7fdea5d8a1e7 0x7fde6bf30192 0x7fde6fb0516a 0x7fde6fedaf62 0x7fde6fedc874 0x7fde6ff4da9e 0x7fde6ff50f2d 0x7fde6ff5139f 0x7fde673a8f36 0x7fde6739b585 0x7fde674596b9 0x7fde67456d88 0x7fdea466c66f 0x7fdea574e6db 0x7fdea5a8788f\n",
            "128/133 [===========================>..] - ETA: 2s - loss: 6.4900 - acc: 0.1250tcmalloc: large alloc 2168643584 bytes == 0x46f16000 @  0x7fdea5d8a1e7 0x7fde6bf30192 0x7fde6fb0516a 0x7fde6fedaf62 0x7fde6fedc874 0x7fde6ff4da9e 0x7fde6ff50f2d 0x7fde6ff5139f 0x7fde673a8f36 0x7fde6739b585 0x7fde674596b9 0x7fde67456d88 0x7fdea466c66f 0x7fdea574e6db 0x7fdea5a8788f\n",
            "133/133 [==============================] - 80s 599ms/step - loss: 6.7112 - acc: 0.1278 - val_loss: 14.8422 - val_acc: 0.0702\n",
            "Epoch 2/1000\n",
            "tcmalloc: large alloc 4869742592 bytes == 0x87716000 @  0x7fdea5d8a1e7 0x7fde6bf30192 0x7fde6fb0516a 0x7fde6fedaf62 0x7fde6fedc874 0x7fde6ff4da9e 0x7fde6ff50f2d 0x7fde6ff5139f 0x7fde673a8f36 0x7fde6739b585 0x7fde674596b9 0x7fde67456d88 0x7fdea466c66f 0x7fdea574e6db 0x7fdea5a8788f\n",
            "128/133 [===========================>..] - ETA: 2s - loss: 13.4737 - acc: 0.1641tcmalloc: large alloc 2168643584 bytes == 0x46f16000 @  0x7fdea5d8a1e7 0x7fde6bf30192 0x7fde6fb0516a 0x7fde6fedaf62 0x7fde6fedc874 0x7fde6ff4da9e 0x7fde6ff50f2d 0x7fde6ff5139f 0x7fde673a8f36 0x7fde6739b585 0x7fde674596b9 0x7fde67456d88 0x7fdea466c66f 0x7fdea574e6db 0x7fdea5a8788f\n",
            "133/133 [==============================] - 77s 578ms/step - loss: 13.4519 - acc: 0.1654 - val_loss: 14.4215 - val_acc: 0.1053\n",
            "Epoch 3/1000\n",
            "tcmalloc: large alloc 4869742592 bytes == 0x87716000 @  0x7fdea5d8a1e7 0x7fde6bf30192 0x7fde6fb0516a 0x7fde6fedaf62 0x7fde6fedc874 0x7fde6ff4da9e 0x7fde6ff50f2d 0x7fde6ff5139f 0x7fde673a8f36 0x7fde6739b585 0x7fde674596b9 0x7fde67456d88 0x7fdea466c66f 0x7fdea574e6db 0x7fdea5a8788f\n",
            "133/133 [==============================] - 77s 579ms/step - loss: 15.5122 - acc: 0.0376 - val_loss: 14.7042 - val_acc: 0.0877\n",
            "Epoch 4/1000\n",
            "tcmalloc: large alloc 4869742592 bytes == 0x87716000 @  0x7fdea5d8a1e7 0x7fde6bf30192 0x7fde6fb0516a 0x7fde6fedaf62 0x7fde6fedc874 0x7fde6ff4da9e 0x7fde6ff50f2d 0x7fde6ff5139f 0x7fde673a8f36 0x7fde6739b585 0x7fde674596b9 0x7fde67456d88 0x7fdea466c66f 0x7fdea574e6db 0x7fdea5a8788f\n",
            "133/133 [==============================] - 77s 580ms/step - loss: 14.5426 - acc: 0.0977 - val_loss: 14.7042 - val_acc: 0.0877\n",
            "Epoch 5/1000\n",
            "tcmalloc: large alloc 4869742592 bytes == 0x87716000 @  0x7fdea5d8a1e7 0x7fde6bf30192 0x7fde6fb0516a 0x7fde6fedaf62 0x7fde6fedc874 0x7fde6ff4da9e 0x7fde6ff50f2d 0x7fde6ff5139f 0x7fde673a8f36 0x7fde6739b585 0x7fde674596b9 0x7fde67456d88 0x7fdea466c66f 0x7fdea574e6db 0x7fdea5a8788f\n",
            "133/133 [==============================] - 77s 577ms/step - loss: 15.3910 - acc: 0.0451 - val_loss: 14.7042 - val_acc: 0.0877\n",
            "Epoch 6/1000\n",
            "tcmalloc: large alloc 4869742592 bytes == 0x87716000 @  0x7fdea5d8a1e7 0x7fde6bf30192 0x7fde6fb0516a 0x7fde6fedaf62 0x7fde6fedc874 0x7fde6ff4da9e 0x7fde6ff50f2d 0x7fde6ff5139f 0x7fde673a8f36 0x7fde6739b585 0x7fde674596b9 0x7fde67456d88 0x7fdea466c66f 0x7fdea574e6db 0x7fdea5a8788f\n",
            "133/133 [==============================] - 77s 579ms/step - loss: 15.1486 - acc: 0.0602 - val_loss: 14.7042 - val_acc: 0.0877\n",
            "Epoch 7/1000\n",
            "tcmalloc: large alloc 4869742592 bytes == 0x87716000 @  0x7fdea5d8a1e7 0x7fde6bf30192 0x7fde6fb0516a 0x7fde6fedaf62 0x7fde6fedc874 0x7fde6ff4da9e 0x7fde6ff50f2d 0x7fde6ff5139f 0x7fde673a8f36 0x7fde6739b585 0x7fde674596b9 0x7fde67456d88 0x7fdea466c66f 0x7fdea574e6db 0x7fdea5a8788f\n",
            "133/133 [==============================] - 77s 581ms/step - loss: 14.7850 - acc: 0.0827 - val_loss: 14.7042 - val_acc: 0.0877\n",
            "Learning stoped on epoch: 6\n",
            "Model saved to disk!\n",
            "val_loss = 14.704 and val_acc = 0.088\n",
            "<Figure size 1500x700 with 2 Axes>\n",
            "classification_cnn_vgg16.py:226: RuntimeWarning: invalid value encountered in true_divide\n",
            "  cm = cm.astype('float') / cm.sum(axis=1)[:, np.newaxis]\n",
            "Normalized confusion matrix\n"
          ],
          "name": "stdout"
        }
      ]
    },
    {
      "cell_type": "code",
      "metadata": {
        "id": "qAwIlEfpzqaK",
        "colab_type": "code",
        "colab": {
          "base_uri": "https://localhost:8080/",
          "height": 1000
        },
        "outputId": "ae4be0dd-ee18-4091-e6a9-3ad1bfab7dbc"
      },
      "source": [
        "!python predict_vgg16.py"
      ],
      "execution_count": 10,
      "outputs": [
        {
          "output_type": "stream",
          "text": [
            "Using TensorFlow backend.\n",
            "WARNING:tensorflow:From /usr/local/lib/python3.6/dist-packages/keras/backend/tensorflow_backend.py:541: The name tf.placeholder is deprecated. Please use tf.compat.v1.placeholder instead.\n",
            "\n",
            "WARNING:tensorflow:From /usr/local/lib/python3.6/dist-packages/keras/backend/tensorflow_backend.py:4432: The name tf.random_uniform is deprecated. Please use tf.random.uniform instead.\n",
            "\n",
            "WARNING:tensorflow:From /usr/local/lib/python3.6/dist-packages/keras/backend/tensorflow_backend.py:66: The name tf.get_default_graph is deprecated. Please use tf.compat.v1.get_default_graph instead.\n",
            "\n",
            "WARNING:tensorflow:From /usr/local/lib/python3.6/dist-packages/keras/backend/tensorflow_backend.py:148: The name tf.placeholder_with_default is deprecated. Please use tf.compat.v1.placeholder_with_default instead.\n",
            "\n",
            "WARNING:tensorflow:From /usr/local/lib/python3.6/dist-packages/keras/backend/tensorflow_backend.py:3733: calling dropout (from tensorflow.python.ops.nn_ops) with keep_prob is deprecated and will be removed in a future version.\n",
            "Instructions for updating:\n",
            "Please use `rate` instead of `keep_prob`. Rate should be set to `rate = 1 - keep_prob`.\n",
            "WARNING:tensorflow:From /usr/local/lib/python3.6/dist-packages/keras/backend/tensorflow_backend.py:4267: The name tf.nn.max_pool is deprecated. Please use tf.nn.max_pool2d instead.\n",
            "\n",
            "WARNING:tensorflow:From /usr/local/lib/python3.6/dist-packages/keras/backend/tensorflow_backend.py:190: The name tf.get_default_session is deprecated. Please use tf.compat.v1.get_default_session instead.\n",
            "\n",
            "WARNING:tensorflow:From /usr/local/lib/python3.6/dist-packages/keras/backend/tensorflow_backend.py:197: The name tf.ConfigProto is deprecated. Please use tf.compat.v1.ConfigProto instead.\n",
            "\n",
            "WARNING:tensorflow:From /usr/local/lib/python3.6/dist-packages/keras/backend/tensorflow_backend.py:203: The name tf.Session is deprecated. Please use tf.compat.v1.Session instead.\n",
            "\n",
            "2020-02-12 05:38:08.193392: I tensorflow/core/platform/profile_utils/cpu_utils.cc:94] CPU Frequency: 2200000000 Hz\n",
            "2020-02-12 05:38:08.193666: I tensorflow/compiler/xla/service/service.cc:168] XLA service 0xb1581c0 initialized for platform Host (this does not guarantee that XLA will be used). Devices:\n",
            "2020-02-12 05:38:08.193701: I tensorflow/compiler/xla/service/service.cc:176]   StreamExecutor device (0): Host, Default Version\n",
            "2020-02-12 05:38:08.195612: I tensorflow/stream_executor/platform/default/dso_loader.cc:44] Successfully opened dynamic library libcuda.so.1\n",
            "2020-02-12 05:38:08.208601: E tensorflow/stream_executor/cuda/cuda_driver.cc:318] failed call to cuInit: CUDA_ERROR_NO_DEVICE: no CUDA-capable device is detected\n",
            "2020-02-12 05:38:08.208674: I tensorflow/stream_executor/cuda/cuda_diagnostics.cc:156] kernel driver does not appear to be running on this host (c6e22d34eb51): /proc/driver/nvidia/version does not exist\n",
            "WARNING:tensorflow:From /usr/local/lib/python3.6/dist-packages/keras/backend/tensorflow_backend.py:207: The name tf.global_variables is deprecated. Please use tf.compat.v1.global_variables instead.\n",
            "\n",
            "WARNING:tensorflow:From /usr/local/lib/python3.6/dist-packages/keras/backend/tensorflow_backend.py:216: The name tf.is_variable_initialized is deprecated. Please use tf.compat.v1.is_variable_initialized instead.\n",
            "\n",
            "WARNING:tensorflow:From /usr/local/lib/python3.6/dist-packages/keras/backend/tensorflow_backend.py:223: The name tf.variables_initializer is deprecated. Please use tf.compat.v1.variables_initializer instead.\n",
            "\n",
            "WARNING:tensorflow:From /usr/local/lib/python3.6/dist-packages/keras/optimizers.py:793: The name tf.train.Optimizer is deprecated. Please use tf.compat.v1.train.Optimizer instead.\n",
            "\n",
            "WARNING:tensorflow:From /usr/local/lib/python3.6/dist-packages/keras/backend/tensorflow_backend.py:3576: The name tf.log is deprecated. Please use tf.math.log instead.\n",
            "\n",
            "WARNING:tensorflow:From /usr/local/lib/python3.6/dist-packages/tensorflow_core/python/ops/math_grad.py:1424: where (from tensorflow.python.ops.array_ops) is deprecated and will be removed in a future version.\n",
            "Instructions for updating:\n",
            "Use tf.where in 2.0, which has the same broadcast rule as np.where\n",
            "WARNING:tensorflow:From /usr/local/lib/python3.6/dist-packages/keras/backend/tensorflow_backend.py:1033: The name tf.assign_add is deprecated. Please use tf.compat.v1.assign_add instead.\n",
            "\n",
            "WARNING:tensorflow:From /usr/local/lib/python3.6/dist-packages/keras/backend/tensorflow_backend.py:1020: The name tf.assign is deprecated. Please use tf.compat.v1.assign instead.\n",
            "\n",
            "Load audio: ./audios/disco_music.mp3\n",
            "\n",
            "Full Predictions:\n",
            "[0.0, 0.0, 0.0, 0.0, 0.0, 0.0, 0.0, 0.0, 1.0, 0.0]\n",
            "[0.0, 0.0, 0.0, 0.0, 0.0, 0.0, 0.0, 0.0, 1.0, 0.0]\n",
            "[0.0, 0.0, 0.0, 0.0, 0.0, 0.0, 0.0, 0.0, 1.0, 0.0]\n",
            "[0.0, 0.0, 0.0, 0.0, 0.0, 0.0, 0.0, 0.0, 1.0, 0.0]\n",
            "[0.0, 0.0, 0.0, 0.0, 0.0, 0.0, 0.0, 0.0, 1.0, 0.0]\n",
            "[0.0, 0.0, 0.0, 0.0, 0.0, 0.0, 0.0, 0.0, 1.0, 0.0]\n",
            "[0.0, 0.0, 0.0, 0.0, 0.0, 0.0, 0.0, 0.0, 1.0, 0.0]\n",
            "[0.0, 0.0, 0.0, 0.0, 0.0, 0.0, 0.0, 0.0, 1.0, 0.0]\n",
            "[0.0, 0.0, 0.0, 0.0, 0.0, 0.0, 0.0, 0.0, 1.0, 0.0]\n",
            "[0.0, 0.0, 0.0, 0.0, 0.0, 0.0, 0.0, 0.0, 1.0, 0.0]\n",
            "[0.0, 0.0, 0.0, 0.0, 0.0, 0.0, 0.0, 0.0, 1.0, 0.0]\n",
            "[0.0, 0.0, 0.0, 0.0, 0.0, 0.0, 0.0, 0.0, 1.0, 0.0]\n",
            "[0.0, 0.0, 0.0, 0.0, 0.0, 0.0, 0.0, 0.0, 1.0, 0.0]\n",
            "[0.0, 0.0, 0.0, 0.0, 0.0, 0.0, 0.0, 0.0, 1.0, 0.0]\n",
            "[0.0, 0.0, 0.0, 0.0, 0.0, 0.0, 0.0, 0.0, 1.0, 0.0]\n",
            "[0.0, 0.0, 0.0, 0.0, 0.0, 0.0, 0.0, 0.0, 1.0, 0.0]\n",
            "[0.0, 0.0, 0.0, 0.0, 0.0, 0.0, 0.0, 0.0, 1.0, 0.0]\n",
            "[0.0, 0.0, 0.0, 0.0, 0.0, 0.0, 0.0, 0.0, 1.0, 0.0]\n",
            "[0.0, 0.0, 0.0, 0.0, 0.0, 0.0, 0.0, 0.0, 1.0, 0.0]\n",
            "\n",
            "Predictions:\n",
            "[8 8 8 8 8 8 8 8 8 8 8 8 8 8 8 8 8 8 8]\n",
            "Confidences:\n",
            "[1.0, 1.0, 1.0, 1.0, 1.0, 1.0, 1.0, 1.0, 1.0, 1.0, 1.0, 1.0, 1.0, 1.0, 1.0, 1.0, 1.0, 1.0, 1.0]\n",
            "\n",
            "Output Predictions:\n",
            "[0. 0. 0. 0. 0. 0. 0. 0. 1. 0.]\n",
            "Predicted class:\n",
            "reggae\n"
          ],
          "name": "stdout"
        }
      ]
    },
    {
      "cell_type": "code",
      "metadata": {
        "id": "qqs9vH_x53s5",
        "colab_type": "code",
        "colab": {}
      },
      "source": [
        ""
      ],
      "execution_count": 0,
      "outputs": []
    }
  ]
}